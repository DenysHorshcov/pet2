{
 "cells": [
  {
   "cell_type": "markdown",
   "metadata": {},
   "source": [
    "# Pet 2\n",
    "about depression"
   ]
  },
  {
   "cell_type": "markdown",
   "metadata": {},
   "source": [
    "## understand data"
   ]
  },
  {
   "cell_type": "markdown",
   "metadata": {},
   "source": [
    "### init"
   ]
  },
  {
   "cell_type": "code",
   "execution_count": 2,
   "metadata": {},
   "outputs": [],
   "source": [
    "import pandas as pd\n",
    "import numpy as np\n",
    "import matplotlib.pyplot as plt\n",
    "import seaborn as sns"
   ]
  },
  {
   "cell_type": "code",
   "execution_count": 3,
   "metadata": {},
   "outputs": [
    {
     "data": {
      "text/html": [
       "<div>\n",
       "<style scoped>\n",
       "    .dataframe tbody tr th:only-of-type {\n",
       "        vertical-align: middle;\n",
       "    }\n",
       "\n",
       "    .dataframe tbody tr th {\n",
       "        vertical-align: top;\n",
       "    }\n",
       "\n",
       "    .dataframe thead th {\n",
       "        text-align: right;\n",
       "    }\n",
       "</style>\n",
       "<table border=\"1\" class=\"dataframe\">\n",
       "  <thead>\n",
       "    <tr style=\"text-align: right;\">\n",
       "      <th></th>\n",
       "      <th>id</th>\n",
       "      <th>Gender</th>\n",
       "      <th>Age</th>\n",
       "      <th>City</th>\n",
       "      <th>Profession</th>\n",
       "      <th>Academic Pressure</th>\n",
       "      <th>Work Pressure</th>\n",
       "      <th>CGPA</th>\n",
       "      <th>Study Satisfaction</th>\n",
       "      <th>Job Satisfaction</th>\n",
       "      <th>Sleep Duration</th>\n",
       "      <th>Dietary Habits</th>\n",
       "      <th>Degree</th>\n",
       "      <th>Have you ever had suicidal thoughts ?</th>\n",
       "      <th>Work/Study Hours</th>\n",
       "      <th>Financial Stress</th>\n",
       "      <th>Family History of Mental Illness</th>\n",
       "      <th>Depression</th>\n",
       "    </tr>\n",
       "  </thead>\n",
       "  <tbody>\n",
       "    <tr>\n",
       "      <th>0</th>\n",
       "      <td>2</td>\n",
       "      <td>Male</td>\n",
       "      <td>33.0</td>\n",
       "      <td>Visakhapatnam</td>\n",
       "      <td>Student</td>\n",
       "      <td>5.0</td>\n",
       "      <td>0.0</td>\n",
       "      <td>8.97</td>\n",
       "      <td>2.0</td>\n",
       "      <td>0.0</td>\n",
       "      <td>'5-6 hours'</td>\n",
       "      <td>Healthy</td>\n",
       "      <td>B.Pharm</td>\n",
       "      <td>Yes</td>\n",
       "      <td>3.0</td>\n",
       "      <td>1.0</td>\n",
       "      <td>No</td>\n",
       "      <td>1</td>\n",
       "    </tr>\n",
       "    <tr>\n",
       "      <th>1</th>\n",
       "      <td>8</td>\n",
       "      <td>Female</td>\n",
       "      <td>24.0</td>\n",
       "      <td>Bangalore</td>\n",
       "      <td>Student</td>\n",
       "      <td>2.0</td>\n",
       "      <td>0.0</td>\n",
       "      <td>5.90</td>\n",
       "      <td>5.0</td>\n",
       "      <td>0.0</td>\n",
       "      <td>'5-6 hours'</td>\n",
       "      <td>Moderate</td>\n",
       "      <td>BSc</td>\n",
       "      <td>No</td>\n",
       "      <td>3.0</td>\n",
       "      <td>2.0</td>\n",
       "      <td>Yes</td>\n",
       "      <td>0</td>\n",
       "    </tr>\n",
       "    <tr>\n",
       "      <th>2</th>\n",
       "      <td>26</td>\n",
       "      <td>Male</td>\n",
       "      <td>31.0</td>\n",
       "      <td>Srinagar</td>\n",
       "      <td>Student</td>\n",
       "      <td>3.0</td>\n",
       "      <td>0.0</td>\n",
       "      <td>7.03</td>\n",
       "      <td>5.0</td>\n",
       "      <td>0.0</td>\n",
       "      <td>'Less than 5 hours'</td>\n",
       "      <td>Healthy</td>\n",
       "      <td>BA</td>\n",
       "      <td>No</td>\n",
       "      <td>9.0</td>\n",
       "      <td>1.0</td>\n",
       "      <td>Yes</td>\n",
       "      <td>0</td>\n",
       "    </tr>\n",
       "    <tr>\n",
       "      <th>3</th>\n",
       "      <td>30</td>\n",
       "      <td>Female</td>\n",
       "      <td>28.0</td>\n",
       "      <td>Varanasi</td>\n",
       "      <td>Student</td>\n",
       "      <td>3.0</td>\n",
       "      <td>0.0</td>\n",
       "      <td>5.59</td>\n",
       "      <td>2.0</td>\n",
       "      <td>0.0</td>\n",
       "      <td>'7-8 hours'</td>\n",
       "      <td>Moderate</td>\n",
       "      <td>BCA</td>\n",
       "      <td>Yes</td>\n",
       "      <td>4.0</td>\n",
       "      <td>5.0</td>\n",
       "      <td>Yes</td>\n",
       "      <td>1</td>\n",
       "    </tr>\n",
       "    <tr>\n",
       "      <th>4</th>\n",
       "      <td>32</td>\n",
       "      <td>Female</td>\n",
       "      <td>25.0</td>\n",
       "      <td>Jaipur</td>\n",
       "      <td>Student</td>\n",
       "      <td>4.0</td>\n",
       "      <td>0.0</td>\n",
       "      <td>8.13</td>\n",
       "      <td>3.0</td>\n",
       "      <td>0.0</td>\n",
       "      <td>'5-6 hours'</td>\n",
       "      <td>Moderate</td>\n",
       "      <td>M.Tech</td>\n",
       "      <td>Yes</td>\n",
       "      <td>1.0</td>\n",
       "      <td>1.0</td>\n",
       "      <td>No</td>\n",
       "      <td>0</td>\n",
       "    </tr>\n",
       "  </tbody>\n",
       "</table>\n",
       "</div>"
      ],
      "text/plain": [
       "   id  Gender   Age           City Profession  Academic Pressure  \\\n",
       "0   2    Male  33.0  Visakhapatnam    Student                5.0   \n",
       "1   8  Female  24.0      Bangalore    Student                2.0   \n",
       "2  26    Male  31.0       Srinagar    Student                3.0   \n",
       "3  30  Female  28.0       Varanasi    Student                3.0   \n",
       "4  32  Female  25.0         Jaipur    Student                4.0   \n",
       "\n",
       "   Work Pressure  CGPA  Study Satisfaction  Job Satisfaction  \\\n",
       "0            0.0  8.97                 2.0               0.0   \n",
       "1            0.0  5.90                 5.0               0.0   \n",
       "2            0.0  7.03                 5.0               0.0   \n",
       "3            0.0  5.59                 2.0               0.0   \n",
       "4            0.0  8.13                 3.0               0.0   \n",
       "\n",
       "        Sleep Duration Dietary Habits   Degree  \\\n",
       "0          '5-6 hours'        Healthy  B.Pharm   \n",
       "1          '5-6 hours'       Moderate      BSc   \n",
       "2  'Less than 5 hours'        Healthy       BA   \n",
       "3          '7-8 hours'       Moderate      BCA   \n",
       "4          '5-6 hours'       Moderate   M.Tech   \n",
       "\n",
       "  Have you ever had suicidal thoughts ?  Work/Study Hours Financial Stress  \\\n",
       "0                                   Yes               3.0              1.0   \n",
       "1                                    No               3.0              2.0   \n",
       "2                                    No               9.0              1.0   \n",
       "3                                   Yes               4.0              5.0   \n",
       "4                                   Yes               1.0              1.0   \n",
       "\n",
       "  Family History of Mental Illness  Depression  \n",
       "0                               No           1  \n",
       "1                              Yes           0  \n",
       "2                              Yes           0  \n",
       "3                              Yes           1  \n",
       "4                               No           0  "
      ]
     },
     "execution_count": 3,
     "metadata": {},
     "output_type": "execute_result"
    }
   ],
   "source": [
    "df = pd.read_csv('student_depression_dataset.csv')\n",
    "df.head()"
   ]
  },
  {
   "cell_type": "code",
   "execution_count": 4,
   "metadata": {},
   "outputs": [
    {
     "name": "stdout",
     "output_type": "stream",
     "text": [
      "(27901, 18)\n",
      "Index(['id', 'Gender', 'Age', 'City', 'Profession', 'Academic Pressure',\n",
      "       'Work Pressure', 'CGPA', 'Study Satisfaction', 'Job Satisfaction',\n",
      "       'Sleep Duration', 'Dietary Habits', 'Degree',\n",
      "       'Have you ever had suicidal thoughts ?', 'Work/Study Hours',\n",
      "       'Financial Stress', 'Family History of Mental Illness', 'Depression'],\n",
      "      dtype='object')\n"
     ]
    }
   ],
   "source": [
    "print(df.shape)\n",
    "columns = df.columns\n",
    "print(columns)"
   ]
  },
  {
   "cell_type": "code",
   "execution_count": 5,
   "metadata": {},
   "outputs": [
    {
     "name": "stdout",
     "output_type": "stream",
     "text": [
      "id\n",
      "False    27901\n",
      "Name: count, dtype: int64\n",
      "\n",
      "Gender\n",
      "False    27901\n",
      "Name: count, dtype: int64\n",
      "\n",
      "Age\n",
      "False    27901\n",
      "Name: count, dtype: int64\n",
      "\n",
      "City\n",
      "False    27901\n",
      "Name: count, dtype: int64\n",
      "\n",
      "Profession\n",
      "False    27901\n",
      "Name: count, dtype: int64\n",
      "\n",
      "Academic Pressure\n",
      "False    27901\n",
      "Name: count, dtype: int64\n",
      "\n",
      "Work Pressure\n",
      "False    27901\n",
      "Name: count, dtype: int64\n",
      "\n",
      "CGPA\n",
      "False    27901\n",
      "Name: count, dtype: int64\n",
      "\n",
      "Study Satisfaction\n",
      "False    27901\n",
      "Name: count, dtype: int64\n",
      "\n",
      "Job Satisfaction\n",
      "False    27901\n",
      "Name: count, dtype: int64\n",
      "\n",
      "Sleep Duration\n",
      "False    27901\n",
      "Name: count, dtype: int64\n",
      "\n",
      "Dietary Habits\n",
      "False    27901\n",
      "Name: count, dtype: int64\n",
      "\n",
      "Degree\n",
      "False    27901\n",
      "Name: count, dtype: int64\n",
      "\n",
      "Have you ever had suicidal thoughts ?\n",
      "False    27901\n",
      "Name: count, dtype: int64\n",
      "\n",
      "Work/Study Hours\n",
      "False    27901\n",
      "Name: count, dtype: int64\n",
      "\n",
      "Financial Stress\n",
      "False    27901\n",
      "Name: count, dtype: int64\n",
      "\n",
      "Family History of Mental Illness\n",
      "False    27901\n",
      "Name: count, dtype: int64\n",
      "\n",
      "Depression\n",
      "False    27901\n",
      "Name: count, dtype: int64\n",
      "\n"
     ]
    }
   ],
   "source": [
    "for i in columns:\n",
    "    print(df[i].isnull().value_counts())\n",
    "    print()"
   ]
  },
  {
   "cell_type": "markdown",
   "metadata": {},
   "source": [
    "### values"
   ]
  },
  {
   "cell_type": "code",
   "execution_count": 6,
   "metadata": {},
   "outputs": [
    {
     "name": "stdout",
     "output_type": "stream",
     "text": [
      "id\n",
      "2         1\n",
      "94192     1\n",
      "94236     1\n",
      "94235     1\n",
      "94234     1\n",
      "         ..\n",
      "46880     1\n",
      "46877     1\n",
      "46873     1\n",
      "46872     1\n",
      "140699    1\n",
      "Name: count, Length: 27901, dtype: int64\n",
      "\n",
      "Gender\n",
      "Male      15547\n",
      "Female    12354\n",
      "Name: count, dtype: int64\n",
      "\n",
      "Age\n",
      "24.0    2258\n",
      "20.0    2237\n",
      "28.0    2133\n",
      "29.0    1950\n",
      "33.0    1893\n",
      "25.0    1784\n",
      "21.0    1726\n",
      "23.0    1645\n",
      "18.0    1587\n",
      "19.0    1560\n",
      "34.0    1468\n",
      "27.0    1462\n",
      "31.0    1427\n",
      "32.0    1262\n",
      "22.0    1160\n",
      "26.0    1155\n",
      "30.0    1145\n",
      "35.0      10\n",
      "38.0       8\n",
      "36.0       7\n",
      "42.0       4\n",
      "48.0       3\n",
      "39.0       3\n",
      "43.0       2\n",
      "46.0       2\n",
      "37.0       2\n",
      "49.0       1\n",
      "51.0       1\n",
      "44.0       1\n",
      "59.0       1\n",
      "54.0       1\n",
      "58.0       1\n",
      "56.0       1\n",
      "41.0       1\n",
      "Name: count, dtype: int64\n",
      "\n",
      "City\n",
      "Kalyan                  1570\n",
      "Srinagar                1372\n",
      "Hyderabad               1340\n",
      "Vasai-Virar             1290\n",
      "Lucknow                 1155\n",
      "Thane                   1139\n",
      "Ludhiana                1111\n",
      "Agra                    1094\n",
      "Surat                   1078\n",
      "Kolkata                 1066\n",
      "Jaipur                  1036\n",
      "Patna                   1007\n",
      "Visakhapatnam            969\n",
      "Pune                     968\n",
      "Ahmedabad                951\n",
      "Bhopal                   934\n",
      "Chennai                  885\n",
      "Meerut                   825\n",
      "Rajkot                   816\n",
      "Delhi                    768\n",
      "Bangalore                767\n",
      "Ghaziabad                745\n",
      "Mumbai                   699\n",
      "Vadodara                 694\n",
      "Varanasi                 685\n",
      "Nagpur                   651\n",
      "Indore                   643\n",
      "Kanpur                   609\n",
      "Nashik                   547\n",
      "Faridabad                461\n",
      "Saanvi                     2\n",
      "Bhavna                     2\n",
      "City                       2\n",
      "Harsha                     2\n",
      "Kibara                     1\n",
      "Nandini                    1\n",
      "Nalini                     1\n",
      "Mihir                      1\n",
      "Nalyan                     1\n",
      "M.Com                      1\n",
      "ME                         1\n",
      "Rashi                      1\n",
      "Gaurav                     1\n",
      "Reyansh                    1\n",
      "Harsh                      1\n",
      "Vaanya                     1\n",
      "Mira                       1\n",
      "'Less than 5 Kalyan'       1\n",
      "3.0                        1\n",
      "'Less Delhi'               1\n",
      "M.Tech                     1\n",
      "Khaziabad                  1\n",
      "Name: count, dtype: int64\n",
      "\n",
      "Profession\n",
      "Student                     27870\n",
      "Architect                       8\n",
      "Teacher                         6\n",
      "'Digital Marketer'              3\n",
      "'Content Writer'                2\n",
      "Chef                            2\n",
      "Doctor                          2\n",
      "Pharmacist                      2\n",
      "'Civil Engineer'                1\n",
      "'UX/UI Designer'                1\n",
      "'Educational Consultant'        1\n",
      "Manager                         1\n",
      "Lawyer                          1\n",
      "Entrepreneur                    1\n",
      "Name: count, dtype: int64\n",
      "\n",
      "Academic Pressure\n",
      "3.0    7462\n",
      "5.0    6296\n",
      "4.0    5155\n",
      "1.0    4801\n",
      "2.0    4178\n",
      "0.0       9\n",
      "Name: count, dtype: int64\n",
      "\n",
      "Work Pressure\n",
      "0.0    27898\n",
      "5.0        2\n",
      "2.0        1\n",
      "Name: count, dtype: int64\n",
      "\n",
      "CGPA\n",
      "8.04    821\n",
      "9.96    425\n",
      "5.74    410\n",
      "8.95    371\n",
      "9.21    343\n",
      "       ... \n",
      "7.65      1\n",
      "6.77      1\n",
      "8.26      1\n",
      "7.23      1\n",
      "6.09      1\n",
      "Name: count, Length: 332, dtype: int64\n",
      "\n",
      "Study Satisfaction\n",
      "4.0    6359\n",
      "2.0    5838\n",
      "3.0    5821\n",
      "1.0    5451\n",
      "5.0    4422\n",
      "0.0      10\n",
      "Name: count, dtype: int64\n",
      "\n",
      "Job Satisfaction\n",
      "0.0    27893\n",
      "2.0        3\n",
      "4.0        2\n",
      "1.0        2\n",
      "3.0        1\n",
      "Name: count, dtype: int64\n",
      "\n",
      "Sleep Duration\n",
      "'Less than 5 hours'    8310\n",
      "'7-8 hours'            7346\n",
      "'5-6 hours'            6183\n",
      "'More than 8 hours'    6044\n",
      "Others                   18\n",
      "Name: count, dtype: int64\n",
      "\n",
      "Dietary Habits\n",
      "Unhealthy    10317\n",
      "Moderate      9921\n",
      "Healthy       7651\n",
      "Others          12\n",
      "Name: count, dtype: int64\n",
      "\n",
      "Degree\n",
      "'Class 12'    6080\n",
      "B.Ed          1867\n",
      "B.Com         1506\n",
      "B.Arch        1478\n",
      "BCA           1433\n",
      "MSc           1190\n",
      "B.Tech        1152\n",
      "MCA           1044\n",
      "M.Tech        1022\n",
      "BHM            925\n",
      "BSc            888\n",
      "M.Ed           821\n",
      "B.Pharm        810\n",
      "M.Com          734\n",
      "MBBS           696\n",
      "BBA            696\n",
      "LLB            671\n",
      "BE             613\n",
      "BA             600\n",
      "M.Pharm        582\n",
      "MD             572\n",
      "MBA            562\n",
      "MA             544\n",
      "PhD            522\n",
      "LLM            482\n",
      "MHM            191\n",
      "ME             185\n",
      "Others          35\n",
      "Name: count, dtype: int64\n",
      "\n",
      "Have you ever had suicidal thoughts ?\n",
      "Yes    17656\n",
      "No     10245\n",
      "Name: count, dtype: int64\n",
      "\n",
      "Work/Study Hours\n",
      "10.0    4234\n",
      "12.0    3172\n",
      "11.0    2892\n",
      "8.0     2509\n",
      "6.0     2247\n",
      "9.0     2026\n",
      "7.0     2001\n",
      "0.0     1700\n",
      "4.0     1614\n",
      "2.0     1590\n",
      "3.0     1470\n",
      "5.0     1296\n",
      "1.0     1150\n",
      "Name: count, dtype: int64\n",
      "\n",
      "Financial Stress\n",
      "5.0    6715\n",
      "4.0    5775\n",
      "3.0    5226\n",
      "1.0    5121\n",
      "2.0    5061\n",
      "?         3\n",
      "Name: count, dtype: int64\n",
      "\n",
      "Family History of Mental Illness\n",
      "No     14398\n",
      "Yes    13503\n",
      "Name: count, dtype: int64\n",
      "\n",
      "Depression\n",
      "1    16336\n",
      "0    11565\n",
      "Name: count, dtype: int64\n",
      "\n"
     ]
    }
   ],
   "source": [
    "for i in columns:\n",
    "    print(df[i].value_counts())\n",
    "    print()"
   ]
  },
  {
   "cell_type": "markdown",
   "metadata": {},
   "source": [
    "## preprocessing"
   ]
  },
  {
   "cell_type": "markdown",
   "metadata": {},
   "source": [
    "### City"
   ]
  },
  {
   "cell_type": "code",
   "execution_count": 7,
   "metadata": {},
   "outputs": [
    {
     "data": {
      "text/plain": [
       "City\n",
       "Kalyan                  1570\n",
       "Srinagar                1372\n",
       "Hyderabad               1340\n",
       "Vasai-Virar             1290\n",
       "Lucknow                 1155\n",
       "Thane                   1139\n",
       "Ludhiana                1111\n",
       "Agra                    1094\n",
       "Surat                   1078\n",
       "Kolkata                 1066\n",
       "Jaipur                  1036\n",
       "Patna                   1007\n",
       "Visakhapatnam            969\n",
       "Pune                     968\n",
       "Ahmedabad                951\n",
       "Bhopal                   934\n",
       "Chennai                  885\n",
       "Meerut                   825\n",
       "Rajkot                   816\n",
       "Delhi                    768\n",
       "Bangalore                767\n",
       "Ghaziabad                745\n",
       "Mumbai                   699\n",
       "Vadodara                 694\n",
       "Varanasi                 685\n",
       "Nagpur                   651\n",
       "Indore                   643\n",
       "Kanpur                   609\n",
       "Nashik                   547\n",
       "Faridabad                461\n",
       "Saanvi                     2\n",
       "Bhavna                     2\n",
       "City                       2\n",
       "Harsha                     2\n",
       "Kibara                     1\n",
       "Nandini                    1\n",
       "Nalini                     1\n",
       "Mihir                      1\n",
       "Nalyan                     1\n",
       "M.Com                      1\n",
       "ME                         1\n",
       "Rashi                      1\n",
       "Gaurav                     1\n",
       "Reyansh                    1\n",
       "Harsh                      1\n",
       "Vaanya                     1\n",
       "Mira                       1\n",
       "'Less than 5 Kalyan'       1\n",
       "3.0                        1\n",
       "'Less Delhi'               1\n",
       "M.Tech                     1\n",
       "Khaziabad                  1\n",
       "Name: count, dtype: int64"
      ]
     },
     "execution_count": 7,
     "metadata": {},
     "output_type": "execute_result"
    }
   ],
   "source": [
    "df['City'].value_counts()"
   ]
  },
  {
   "cell_type": "code",
   "execution_count": 8,
   "metadata": {},
   "outputs": [],
   "source": [
    "df_new = df[:].copy()\n",
    "values_c = df_new['City'].value_counts()"
   ]
  },
  {
   "cell_type": "code",
   "execution_count": 9,
   "metadata": {},
   "outputs": [
    {
     "data": {
      "text/plain": [
       "City\n",
       "Kalyan                  1570\n",
       "Srinagar                1372\n",
       "Hyderabad               1340\n",
       "Vasai-Virar             1290\n",
       "Lucknow                 1155\n",
       "Thane                   1139\n",
       "Ludhiana                1111\n",
       "Agra                    1094\n",
       "Surat                   1078\n",
       "Kolkata                 1066\n",
       "Jaipur                  1036\n",
       "Patna                   1007\n",
       "Visakhapatnam            969\n",
       "Pune                     968\n",
       "Ahmedabad                951\n",
       "Bhopal                   934\n",
       "Chennai                  885\n",
       "Meerut                   825\n",
       "Rajkot                   816\n",
       "Delhi                    768\n",
       "Bangalore                767\n",
       "Ghaziabad                745\n",
       "Mumbai                   699\n",
       "Vadodara                 694\n",
       "Varanasi                 685\n",
       "Nagpur                   651\n",
       "Indore                   643\n",
       "Kanpur                   609\n",
       "Nashik                   547\n",
       "Faridabad                461\n",
       "Saanvi                     2\n",
       "Bhavna                     2\n",
       "City                       2\n",
       "Harsha                     2\n",
       "Kibara                     1\n",
       "Nandini                    1\n",
       "Nalini                     1\n",
       "Mihir                      1\n",
       "Nalyan                     1\n",
       "M.Com                      1\n",
       "ME                         1\n",
       "Rashi                      1\n",
       "Gaurav                     1\n",
       "Reyansh                    1\n",
       "Harsh                      1\n",
       "Vaanya                     1\n",
       "Mira                       1\n",
       "'Less than 5 Kalyan'       1\n",
       "3.0                        1\n",
       "'Less Delhi'               1\n",
       "M.Tech                     1\n",
       "Khaziabad                  1\n",
       "Name: count, dtype: int64"
      ]
     },
     "execution_count": 9,
     "metadata": {},
     "output_type": "execute_result"
    }
   ],
   "source": [
    "values_c"
   ]
  },
  {
   "cell_type": "code",
   "execution_count": 10,
   "metadata": {},
   "outputs": [
    {
     "data": {
      "image/png": "[encoded data removed]",
      "text/plain": [
       "<Figure size 800x400 with 1 Axes>"
      ]
     },
     "metadata": {},
     "output_type": "display_data"
    }
   ],
   "source": [
    "plt.figure(figsize=(8,4))\n",
    "sns.boxplot(values_c)\n",
    "plt.show()"
   ]
  },
  {
   "cell_type": "code",
   "execution_count": 11,
   "metadata": {},
   "outputs": [
    {
     "data": {
      "text/plain": [
       "0        Visakhapatnam\n",
       "1            Bangalore\n",
       "2             Srinagar\n",
       "3             Varanasi\n",
       "4               Jaipur\n",
       "             ...      \n",
       "27896            Surat\n",
       "27897         Ludhiana\n",
       "27898        Faridabad\n",
       "27899         Ludhiana\n",
       "27900            Patna\n",
       "Name: City, Length: 27883, dtype: object"
      ]
     },
     "execution_count": 11,
     "metadata": {},
     "output_type": "execute_result"
    }
   ],
   "source": [
    "Q1 = values_c.quantile(0.25)\n",
    "val = values_c[values_c > Q1].index\n",
    "df_new = df_new[df_new['City'].isin(val)]\n",
    "df_new['City']"
   ]
  },
  {
   "cell_type": "markdown",
   "metadata": {},
   "source": [
    "### Profession"
   ]
  },
  {
   "cell_type": "code",
   "execution_count": 12,
   "metadata": {},
   "outputs": [
    {
     "data": {
      "text/plain": [
       "0        Student\n",
       "1        Student\n",
       "2        Student\n",
       "3        Student\n",
       "4        Student\n",
       "          ...   \n",
       "27896    Student\n",
       "27897    Student\n",
       "27898    Student\n",
       "27899    Student\n",
       "27900    Student\n",
       "Name: Profession, Length: 27852, dtype: object"
      ]
     },
     "execution_count": 12,
     "metadata": {},
     "output_type": "execute_result"
    }
   ],
   "source": [
    "df_new = df_new[df_new['Profession'] == 'Student']\n",
    "df_new['Profession']"
   ]
  },
  {
   "cell_type": "markdown",
   "metadata": {},
   "source": [
    "### Work Preshure"
   ]
  },
  {
   "cell_type": "code",
   "execution_count": 13,
   "metadata": {},
   "outputs": [
    {
     "data": {
      "text/plain": [
       "0        0.0\n",
       "1        0.0\n",
       "2        0.0\n",
       "3        0.0\n",
       "4        0.0\n",
       "        ... \n",
       "27896    0.0\n",
       "27897    0.0\n",
       "27898    0.0\n",
       "27899    0.0\n",
       "27900    0.0\n",
       "Name: Work Pressure, Length: 27849, dtype: float64"
      ]
     },
     "execution_count": 13,
     "metadata": {},
     "output_type": "execute_result"
    }
   ],
   "source": [
    "df_new = df_new[df_new['Work Pressure'] == 0]\n",
    "df_new['Work Pressure']"
   ]
  },
  {
   "cell_type": "markdown",
   "metadata": {},
   "source": [
    "### Academic Preshure"
   ]
  },
  {
   "cell_type": "code",
   "execution_count": 14,
   "metadata": {},
   "outputs": [
    {
     "data": {
      "image/png": "[encoded data removed]",
      "text/plain": [
       "<Figure size 800x400 with 1 Axes>"
      ]
     },
     "metadata": {},
     "output_type": "display_data"
    }
   ],
   "source": [
    "value_ap = df_new['Academic Pressure'].value_counts()\n",
    "plt.figure(figsize=(8,4))\n",
    "sns.boxplot(value_ap)\n",
    "plt.show()"
   ]
  },
  {
   "cell_type": "code",
   "execution_count": 15,
   "metadata": {},
   "outputs": [
    {
     "data": {
      "text/plain": [
       "1818.5"
      ]
     },
     "execution_count": 15,
     "metadata": {},
     "output_type": "execute_result"
    }
   ],
   "source": [
    "Q1 = value_ap.quantile(0.25)\n",
    "Q3 = value_ap.quantile(0.75)\n",
    "IQR = Q3-Q1\n",
    "lower_bound = Q1 - 1.5 * IQR\n",
    "lower_bound"
   ]
  },
  {
   "cell_type": "code",
   "execution_count": 16,
   "metadata": {},
   "outputs": [
    {
     "data": {
      "text/plain": [
       "0        5.0\n",
       "1        2.0\n",
       "2        3.0\n",
       "3        3.0\n",
       "4        4.0\n",
       "        ... \n",
       "27896    5.0\n",
       "27897    2.0\n",
       "27898    3.0\n",
       "27899    5.0\n",
       "27900    4.0\n",
       "Name: Academic Pressure, Length: 27843, dtype: float64"
      ]
     },
     "execution_count": 16,
     "metadata": {},
     "output_type": "execute_result"
    }
   ],
   "source": [
    "val_ap = value_ap[value_ap > lower_bound].index\n",
    "df_new = df_new[df_new['Academic Pressure'].isin(val_ap)]\n",
    "df_new['Academic Pressure']"
   ]
  },
  {
   "cell_type": "markdown",
   "metadata": {},
   "source": [
    "### Job Satisfaction"
   ]
  },
  {
   "cell_type": "code",
   "execution_count": 17,
   "metadata": {},
   "outputs": [
    {
     "data": {
      "image/png": "[encoded data removed]",
      "text/plain": [
       "<Figure size 800x400 with 1 Axes>"
      ]
     },
     "metadata": {},
     "output_type": "display_data"
    }
   ],
   "source": [
    "value_j = df_new['Job Satisfaction'].value_counts()\n",
    "plt.figure(figsize=(8,4))\n",
    "sns.boxplot(value_j)\n",
    "plt.show()"
   ]
  },
  {
   "cell_type": "code",
   "execution_count": 18,
   "metadata": {},
   "outputs": [
    {
     "data": {
      "text/plain": [
       "13921.0"
      ]
     },
     "execution_count": 18,
     "metadata": {},
     "output_type": "execute_result"
    }
   ],
   "source": [
    "Q3 = value_j.quantile(0.75)\n",
    "Q3"
   ]
  },
  {
   "cell_type": "code",
   "execution_count": 19,
   "metadata": {},
   "outputs": [
    {
     "data": {
      "text/plain": [
       "0        0.0\n",
       "1        0.0\n",
       "2        0.0\n",
       "3        0.0\n",
       "4        0.0\n",
       "        ... \n",
       "27896    0.0\n",
       "27897    0.0\n",
       "27898    0.0\n",
       "27899    0.0\n",
       "27900    0.0\n",
       "Name: Job Satisfaction, Length: 27841, dtype: float64"
      ]
     },
     "execution_count": 19,
     "metadata": {},
     "output_type": "execute_result"
    }
   ],
   "source": [
    "val_j = value_j[value_j > Q3].index\n",
    "df_new = df_new[df_new['Job Satisfaction'].isin(val_j)]\n",
    "df_new['Job Satisfaction']"
   ]
  },
  {
   "cell_type": "markdown",
   "metadata": {},
   "source": [
    "### Study Satisfaction"
   ]
  },
  {
   "cell_type": "code",
   "execution_count": 28,
   "metadata": {},
   "outputs": [
    {
     "data": {
      "image/png": "[encoded data removed]",
      "text/plain": [
       "<Figure size 800x400 with 1 Axes>"
      ]
     },
     "metadata": {},
     "output_type": "display_data"
    }
   ],
   "source": [
    "value_ss = df_new['Study Satisfaction'].value_counts()\n",
    "plt.figure(figsize=(8,4))\n",
    "sns.boxplot(value_ss)\n",
    "plt.show()"
   ]
  },
  {
   "cell_type": "code",
   "execution_count": 31,
   "metadata": {},
   "outputs": [
    {
     "data": {
      "text/plain": [
       "2871.625"
      ]
     },
     "execution_count": 31,
     "metadata": {},
     "output_type": "execute_result"
    }
   ],
   "source": [
    "Q1 = value_ss.quantile(0.25)\n",
    "Q3 = value_ss.quantile(0.75)\n",
    "IQR = Q3 - Q1\n",
    "lower_bound = Q1 - 1.5*IQR\n",
    "lower_bound"
   ]
  },
  {
   "cell_type": "code",
   "execution_count": 32,
   "metadata": {},
   "outputs": [
    {
     "data": {
      "text/plain": [
       "0        2.0\n",
       "1        5.0\n",
       "2        5.0\n",
       "3        2.0\n",
       "4        3.0\n",
       "        ... \n",
       "27896    5.0\n",
       "27897    3.0\n",
       "27898    4.0\n",
       "27899    2.0\n",
       "27900    1.0\n",
       "Name: Study Satisfaction, Length: 27394, dtype: float64"
      ]
     },
     "execution_count": 32,
     "metadata": {},
     "output_type": "execute_result"
    }
   ],
   "source": [
    "val_ss = value_ss[value_ss > lower_bound].index\n",
    "df_new = df_new[df_new['Study Satisfaction'].isin(val_ss)]\n",
    "df_new['Study Satisfaction']"
   ]
  },
  {
   "cell_type": "markdown",
   "metadata": {},
   "source": [
    "### Sleep Duration / Dietary Habits / Financial Stress"
   ]
  },
  {
   "cell_type": "code",
   "execution_count": 20,
   "metadata": {},
   "outputs": [
    {
     "data": {
      "text/plain": [
       "0                '5-6 hours'\n",
       "1                '5-6 hours'\n",
       "2        'Less than 5 hours'\n",
       "3                '7-8 hours'\n",
       "4                '5-6 hours'\n",
       "                ...         \n",
       "27896            '5-6 hours'\n",
       "27897    'Less than 5 hours'\n",
       "27898            '5-6 hours'\n",
       "27899    'Less than 5 hours'\n",
       "27900    'Less than 5 hours'\n",
       "Name: Sleep Duration, Length: 27823, dtype: object"
      ]
     },
     "execution_count": 20,
     "metadata": {},
     "output_type": "execute_result"
    }
   ],
   "source": [
    "df_new = df_new[df_new['Sleep Duration'] != 'Others']\n",
    "df_new['Sleep Duration']"
   ]
  },
  {
   "cell_type": "code",
   "execution_count": 21,
   "metadata": {},
   "outputs": [
    {
     "data": {
      "text/plain": [
       "0          Healthy\n",
       "1         Moderate\n",
       "2          Healthy\n",
       "3         Moderate\n",
       "4         Moderate\n",
       "           ...    \n",
       "27896    Unhealthy\n",
       "27897      Healthy\n",
       "27898    Unhealthy\n",
       "27899      Healthy\n",
       "27900      Healthy\n",
       "Name: Dietary Habits, Length: 27811, dtype: object"
      ]
     },
     "execution_count": 21,
     "metadata": {},
     "output_type": "execute_result"
    }
   ],
   "source": [
    "df_new = df_new[df_new['Dietary Habits'] != 'Others']\n",
    "df_new['Dietary Habits']"
   ]
  },
  {
   "cell_type": "code",
   "execution_count": 22,
   "metadata": {},
   "outputs": [
    {
     "data": {
      "text/plain": [
       "0        1.0\n",
       "1        2.0\n",
       "2        1.0\n",
       "3        5.0\n",
       "4        1.0\n",
       "        ... \n",
       "27896    1.0\n",
       "27897    3.0\n",
       "27898    2.0\n",
       "27899    5.0\n",
       "27900    3.0\n",
       "Name: Financial Stress, Length: 27808, dtype: object"
      ]
     },
     "execution_count": 22,
     "metadata": {},
     "output_type": "execute_result"
    }
   ],
   "source": [
    "df_new = df_new[df_new['Financial Stress'] != '?']\n",
    "df_new['Financial Stress']"
   ]
  },
  {
   "cell_type": "markdown",
   "metadata": {},
   "source": [
    "### Degree"
   ]
  },
  {
   "cell_type": "code",
   "execution_count": 23,
   "metadata": {},
   "outputs": [
    {
     "data": {
      "image/png": "[encoded data removed]",
      "text/plain": [
       "<Figure size 800x400 with 1 Axes>"
      ]
     },
     "metadata": {},
     "output_type": "display_data"
    }
   ],
   "source": [
    "value_d = df_new['Degree'].value_counts()\n",
    "plt.figure(figsize=(8,4))\n",
    "sns.boxplot(value_d)\n",
    "plt.show()"
   ]
  },
  {
   "cell_type": "code",
   "execution_count": 24,
   "metadata": {},
   "outputs": [
    {
     "data": {
      "text/plain": [
       "0           B.Pharm\n",
       "1               BSc\n",
       "2                BA\n",
       "3               BCA\n",
       "4            M.Tech\n",
       "            ...    \n",
       "27896    'Class 12'\n",
       "27897           MSc\n",
       "27898            MD\n",
       "27899    'Class 12'\n",
       "27900           BCA\n",
       "Name: Degree, Length: 27397, dtype: object"
      ]
     },
     "execution_count": 24,
     "metadata": {},
     "output_type": "execute_result"
    }
   ],
   "source": [
    "threshold = value_d.quantile(0.1)\n",
    "val_d = value_d[value_d > threshold].index\n",
    "df_new = df_new[df_new['Degree'].isin(val_d)]\n",
    "df_new['Degree']"
   ]
  },
  {
   "cell_type": "markdown",
   "metadata": {},
   "source": [
    "### resoult"
   ]
  },
  {
   "cell_type": "markdown",
   "metadata": {},
   "source": [
    "#### clean data set"
   ]
  },
  {
   "cell_type": "code",
   "execution_count": 33,
   "metadata": {},
   "outputs": [
    {
     "data": {
      "text/html": [
       "<div>\n",
       "<style scoped>\n",
       "    .dataframe tbody tr th:only-of-type {\n",
       "        vertical-align: middle;\n",
       "    }\n",
       "\n",
       "    .dataframe tbody tr th {\n",
       "        vertical-align: top;\n",
       "    }\n",
       "\n",
       "    .dataframe thead th {\n",
       "        text-align: right;\n",
       "    }\n",
       "</style>\n",
       "<table border=\"1\" class=\"dataframe\">\n",
       "  <thead>\n",
       "    <tr style=\"text-align: right;\">\n",
       "      <th></th>\n",
       "      <th>id</th>\n",
       "      <th>Gender</th>\n",
       "      <th>Age</th>\n",
       "      <th>City</th>\n",
       "      <th>Profession</th>\n",
       "      <th>Academic Pressure</th>\n",
       "      <th>Work Pressure</th>\n",
       "      <th>CGPA</th>\n",
       "      <th>Study Satisfaction</th>\n",
       "      <th>Job Satisfaction</th>\n",
       "      <th>Sleep Duration</th>\n",
       "      <th>Dietary Habits</th>\n",
       "      <th>Degree</th>\n",
       "      <th>Have you ever had suicidal thoughts ?</th>\n",
       "      <th>Work/Study Hours</th>\n",
       "      <th>Financial Stress</th>\n",
       "      <th>Family History of Mental Illness</th>\n",
       "      <th>Depression</th>\n",
       "    </tr>\n",
       "  </thead>\n",
       "  <tbody>\n",
       "    <tr>\n",
       "      <th>0</th>\n",
       "      <td>2</td>\n",
       "      <td>Male</td>\n",
       "      <td>33.0</td>\n",
       "      <td>Visakhapatnam</td>\n",
       "      <td>Student</td>\n",
       "      <td>5.0</td>\n",
       "      <td>0.0</td>\n",
       "      <td>8.97</td>\n",
       "      <td>2.0</td>\n",
       "      <td>0.0</td>\n",
       "      <td>'5-6 hours'</td>\n",
       "      <td>Healthy</td>\n",
       "      <td>B.Pharm</td>\n",
       "      <td>Yes</td>\n",
       "      <td>3.0</td>\n",
       "      <td>1.0</td>\n",
       "      <td>No</td>\n",
       "      <td>1</td>\n",
       "    </tr>\n",
       "    <tr>\n",
       "      <th>1</th>\n",
       "      <td>8</td>\n",
       "      <td>Female</td>\n",
       "      <td>24.0</td>\n",
       "      <td>Bangalore</td>\n",
       "      <td>Student</td>\n",
       "      <td>2.0</td>\n",
       "      <td>0.0</td>\n",
       "      <td>5.90</td>\n",
       "      <td>5.0</td>\n",
       "      <td>0.0</td>\n",
       "      <td>'5-6 hours'</td>\n",
       "      <td>Moderate</td>\n",
       "      <td>BSc</td>\n",
       "      <td>No</td>\n",
       "      <td>3.0</td>\n",
       "      <td>2.0</td>\n",
       "      <td>Yes</td>\n",
       "      <td>0</td>\n",
       "    </tr>\n",
       "    <tr>\n",
       "      <th>2</th>\n",
       "      <td>26</td>\n",
       "      <td>Male</td>\n",
       "      <td>31.0</td>\n",
       "      <td>Srinagar</td>\n",
       "      <td>Student</td>\n",
       "      <td>3.0</td>\n",
       "      <td>0.0</td>\n",
       "      <td>7.03</td>\n",
       "      <td>5.0</td>\n",
       "      <td>0.0</td>\n",
       "      <td>'Less than 5 hours'</td>\n",
       "      <td>Healthy</td>\n",
       "      <td>BA</td>\n",
       "      <td>No</td>\n",
       "      <td>9.0</td>\n",
       "      <td>1.0</td>\n",
       "      <td>Yes</td>\n",
       "      <td>0</td>\n",
       "    </tr>\n",
       "    <tr>\n",
       "      <th>3</th>\n",
       "      <td>30</td>\n",
       "      <td>Female</td>\n",
       "      <td>28.0</td>\n",
       "      <td>Varanasi</td>\n",
       "      <td>Student</td>\n",
       "      <td>3.0</td>\n",
       "      <td>0.0</td>\n",
       "      <td>5.59</td>\n",
       "      <td>2.0</td>\n",
       "      <td>0.0</td>\n",
       "      <td>'7-8 hours'</td>\n",
       "      <td>Moderate</td>\n",
       "      <td>BCA</td>\n",
       "      <td>Yes</td>\n",
       "      <td>4.0</td>\n",
       "      <td>5.0</td>\n",
       "      <td>Yes</td>\n",
       "      <td>1</td>\n",
       "    </tr>\n",
       "    <tr>\n",
       "      <th>4</th>\n",
       "      <td>32</td>\n",
       "      <td>Female</td>\n",
       "      <td>25.0</td>\n",
       "      <td>Jaipur</td>\n",
       "      <td>Student</td>\n",
       "      <td>4.0</td>\n",
       "      <td>0.0</td>\n",
       "      <td>8.13</td>\n",
       "      <td>3.0</td>\n",
       "      <td>0.0</td>\n",
       "      <td>'5-6 hours'</td>\n",
       "      <td>Moderate</td>\n",
       "      <td>M.Tech</td>\n",
       "      <td>Yes</td>\n",
       "      <td>1.0</td>\n",
       "      <td>1.0</td>\n",
       "      <td>No</td>\n",
       "      <td>0</td>\n",
       "    </tr>\n",
       "  </tbody>\n",
       "</table>\n",
       "</div>"
      ],
      "text/plain": [
       "   id  Gender   Age           City Profession  Academic Pressure  \\\n",
       "0   2    Male  33.0  Visakhapatnam    Student                5.0   \n",
       "1   8  Female  24.0      Bangalore    Student                2.0   \n",
       "2  26    Male  31.0       Srinagar    Student                3.0   \n",
       "3  30  Female  28.0       Varanasi    Student                3.0   \n",
       "4  32  Female  25.0         Jaipur    Student                4.0   \n",
       "\n",
       "   Work Pressure  CGPA  Study Satisfaction  Job Satisfaction  \\\n",
       "0            0.0  8.97                 2.0               0.0   \n",
       "1            0.0  5.90                 5.0               0.0   \n",
       "2            0.0  7.03                 5.0               0.0   \n",
       "3            0.0  5.59                 2.0               0.0   \n",
       "4            0.0  8.13                 3.0               0.0   \n",
       "\n",
       "        Sleep Duration Dietary Habits   Degree  \\\n",
       "0          '5-6 hours'        Healthy  B.Pharm   \n",
       "1          '5-6 hours'       Moderate      BSc   \n",
       "2  'Less than 5 hours'        Healthy       BA   \n",
       "3          '7-8 hours'       Moderate      BCA   \n",
       "4          '5-6 hours'       Moderate   M.Tech   \n",
       "\n",
       "  Have you ever had suicidal thoughts ?  Work/Study Hours Financial Stress  \\\n",
       "0                                   Yes               3.0              1.0   \n",
       "1                                    No               3.0              2.0   \n",
       "2                                    No               9.0              1.0   \n",
       "3                                   Yes               4.0              5.0   \n",
       "4                                   Yes               1.0              1.0   \n",
       "\n",
       "  Family History of Mental Illness  Depression  \n",
       "0                               No           1  \n",
       "1                              Yes           0  \n",
       "2                              Yes           0  \n",
       "3                              Yes           1  \n",
       "4                               No           0  "
      ]
     },
     "execution_count": 33,
     "metadata": {},
     "output_type": "execute_result"
    }
   ],
   "source": [
    "df_new.head()"
   ]
  },
  {
   "cell_type": "code",
   "execution_count": 34,
   "metadata": {},
   "outputs": [
    {
     "name": "stdout",
     "output_type": "stream",
     "text": [
      "id\n",
      "2         1\n",
      "94307     1\n",
      "94292     1\n",
      "94289     1\n",
      "94280     1\n",
      "         ..\n",
      "46918     1\n",
      "46916     1\n",
      "46908     1\n",
      "46906     1\n",
      "140699    1\n",
      "Name: count, Length: 27394, dtype: int64\n",
      "\n",
      "Gender\n",
      "Male      15285\n",
      "Female    12109\n",
      "Name: count, dtype: int64\n",
      "\n",
      "Age\n",
      "24.0    2241\n",
      "20.0    2228\n",
      "28.0    2078\n",
      "29.0    1861\n",
      "33.0    1841\n",
      "25.0    1738\n",
      "21.0    1708\n",
      "23.0    1629\n",
      "18.0    1581\n",
      "19.0    1559\n",
      "34.0    1440\n",
      "27.0    1434\n",
      "31.0    1388\n",
      "32.0    1232\n",
      "22.0    1150\n",
      "26.0    1139\n",
      "30.0    1101\n",
      "35.0      10\n",
      "38.0       7\n",
      "36.0       5\n",
      "42.0       4\n",
      "48.0       3\n",
      "39.0       3\n",
      "43.0       2\n",
      "46.0       2\n",
      "37.0       2\n",
      "51.0       1\n",
      "44.0       1\n",
      "49.0       1\n",
      "59.0       1\n",
      "54.0       1\n",
      "58.0       1\n",
      "56.0       1\n",
      "41.0       1\n",
      "Name: count, dtype: int64\n",
      "\n",
      "City\n",
      "Kalyan           1541\n",
      "Srinagar         1350\n",
      "Hyderabad        1332\n",
      "Vasai-Virar      1255\n",
      "Lucknow          1135\n",
      "Thane            1125\n",
      "Ludhiana         1089\n",
      "Agra             1083\n",
      "Surat            1060\n",
      "Kolkata          1053\n",
      "Jaipur           1008\n",
      "Patna             994\n",
      "Visakhapatnam     952\n",
      "Pune              948\n",
      "Ahmedabad         939\n",
      "Bhopal            911\n",
      "Chennai           868\n",
      "Rajkot            803\n",
      "Meerut            801\n",
      "Delhi             760\n",
      "Bangalore         753\n",
      "Ghaziabad         733\n",
      "Mumbai            691\n",
      "Varanasi          678\n",
      "Vadodara          670\n",
      "Nagpur            642\n",
      "Indore            624\n",
      "Kanpur            598\n",
      "Nashik            540\n",
      "Faridabad         450\n",
      "Saanvi              2\n",
      "Bhavna              2\n",
      "City                2\n",
      "Harsha              2\n",
      "Name: count, dtype: int64\n",
      "\n",
      "Profession\n",
      "Student    27394\n",
      "Name: count, dtype: int64\n",
      "\n",
      "Academic Pressure\n",
      "3.0    7327\n",
      "5.0    6177\n",
      "4.0    5074\n",
      "1.0    4711\n",
      "2.0    4105\n",
      "Name: count, dtype: int64\n",
      "\n",
      "Work Pressure\n",
      "0.0    27394\n",
      "Name: count, dtype: int64\n",
      "\n",
      "CGPA\n",
      "8.04    809\n",
      "9.96    420\n",
      "5.74    404\n",
      "8.95    362\n",
      "9.21    341\n",
      "       ... \n",
      "6.06      1\n",
      "6.77      1\n",
      "8.26      1\n",
      "7.23      1\n",
      "6.09      1\n",
      "Name: count, Length: 332, dtype: int64\n",
      "\n",
      "Study Satisfaction\n",
      "4.0    6241\n",
      "2.0    5744\n",
      "3.0    5712\n",
      "1.0    5365\n",
      "5.0    4332\n",
      "Name: count, dtype: int64\n",
      "\n",
      "Job Satisfaction\n",
      "0.0    27394\n",
      "Name: count, dtype: int64\n",
      "\n",
      "Sleep Duration\n",
      "'Less than 5 hours'    8171\n",
      "'7-8 hours'            7198\n",
      "'5-6 hours'            6081\n",
      "'More than 8 hours'    5944\n",
      "Name: count, dtype: int64\n",
      "\n",
      "Dietary Habits\n",
      "Unhealthy    10124\n",
      "Moderate      9762\n",
      "Healthy       7508\n",
      "Name: count, dtype: int64\n",
      "\n",
      "Degree\n",
      "'Class 12'    6067\n",
      "B.Ed          1858\n",
      "B.Com         1502\n",
      "B.Arch        1475\n",
      "BCA           1429\n",
      "MSc           1183\n",
      "B.Tech        1151\n",
      "MCA           1038\n",
      "M.Tech        1019\n",
      "BHM            921\n",
      "BSc            883\n",
      "M.Ed           817\n",
      "B.Pharm        808\n",
      "M.Com          733\n",
      "BBA            695\n",
      "MBBS           693\n",
      "LLB            670\n",
      "BE             609\n",
      "BA             594\n",
      "M.Pharm        579\n",
      "MD             569\n",
      "MBA            560\n",
      "MA             542\n",
      "PhD            518\n",
      "LLM            481\n",
      "Name: count, dtype: int64\n",
      "\n",
      "Have you ever had suicidal thoughts ?\n",
      "Yes    17330\n",
      "No     10064\n",
      "Name: count, dtype: int64\n",
      "\n",
      "Work/Study Hours\n",
      "10.0    4169\n",
      "12.0    3107\n",
      "11.0    2848\n",
      "8.0     2470\n",
      "6.0     2211\n",
      "9.0     1983\n",
      "7.0     1975\n",
      "0.0     1662\n",
      "4.0     1578\n",
      "2.0     1556\n",
      "3.0     1436\n",
      "5.0     1269\n",
      "1.0     1130\n",
      "Name: count, dtype: int64\n",
      "\n",
      "Financial Stress\n",
      "5.0    6592\n",
      "4.0    5697\n",
      "3.0    5106\n",
      "1.0    5034\n",
      "2.0    4965\n",
      "Name: count, dtype: int64\n",
      "\n",
      "Family History of Mental Illness\n",
      "No     14137\n",
      "Yes    13257\n",
      "Name: count, dtype: int64\n",
      "\n",
      "Depression\n",
      "1    16055\n",
      "0    11339\n",
      "Name: count, dtype: int64\n",
      "\n"
     ]
    }
   ],
   "source": [
    "for i in columns:\n",
    "    print(df_new[i].value_counts())\n",
    "    print()"
   ]
  },
  {
   "cell_type": "markdown",
   "metadata": {},
   "source": [
    "#### data set for work"
   ]
  },
  {
   "cell_type": "code",
   "execution_count": 36,
   "metadata": {},
   "outputs": [
    {
     "data": {
      "text/html": [
       "<div>\n",
       "<style scoped>\n",
       "    .dataframe tbody tr th:only-of-type {\n",
       "        vertical-align: middle;\n",
       "    }\n",
       "\n",
       "    .dataframe tbody tr th {\n",
       "        vertical-align: top;\n",
       "    }\n",
       "\n",
       "    .dataframe thead th {\n",
       "        text-align: right;\n",
       "    }\n",
       "</style>\n",
       "<table border=\"1\" class=\"dataframe\">\n",
       "  <thead>\n",
       "    <tr style=\"text-align: right;\">\n",
       "      <th></th>\n",
       "      <th>Gender</th>\n",
       "      <th>Age</th>\n",
       "      <th>City</th>\n",
       "      <th>Academic Pressure</th>\n",
       "      <th>CGPA</th>\n",
       "      <th>Study Satisfaction</th>\n",
       "      <th>Sleep Duration</th>\n",
       "      <th>Dietary Habits</th>\n",
       "      <th>Degree</th>\n",
       "      <th>Have you ever had suicidal thoughts ?</th>\n",
       "      <th>Work/Study Hours</th>\n",
       "      <th>Financial Stress</th>\n",
       "      <th>Family History of Mental Illness</th>\n",
       "      <th>Depression</th>\n",
       "    </tr>\n",
       "  </thead>\n",
       "  <tbody>\n",
       "    <tr>\n",
       "      <th>0</th>\n",
       "      <td>Male</td>\n",
       "      <td>33.0</td>\n",
       "      <td>Visakhapatnam</td>\n",
       "      <td>5.0</td>\n",
       "      <td>8.97</td>\n",
       "      <td>2.0</td>\n",
       "      <td>'5-6 hours'</td>\n",
       "      <td>Healthy</td>\n",
       "      <td>B.Pharm</td>\n",
       "      <td>Yes</td>\n",
       "      <td>3.0</td>\n",
       "      <td>1.0</td>\n",
       "      <td>No</td>\n",
       "      <td>1</td>\n",
       "    </tr>\n",
       "    <tr>\n",
       "      <th>1</th>\n",
       "      <td>Female</td>\n",
       "      <td>24.0</td>\n",
       "      <td>Bangalore</td>\n",
       "      <td>2.0</td>\n",
       "      <td>5.90</td>\n",
       "      <td>5.0</td>\n",
       "      <td>'5-6 hours'</td>\n",
       "      <td>Moderate</td>\n",
       "      <td>BSc</td>\n",
       "      <td>No</td>\n",
       "      <td>3.0</td>\n",
       "      <td>2.0</td>\n",
       "      <td>Yes</td>\n",
       "      <td>0</td>\n",
       "    </tr>\n",
       "    <tr>\n",
       "      <th>2</th>\n",
       "      <td>Male</td>\n",
       "      <td>31.0</td>\n",
       "      <td>Srinagar</td>\n",
       "      <td>3.0</td>\n",
       "      <td>7.03</td>\n",
       "      <td>5.0</td>\n",
       "      <td>'Less than 5 hours'</td>\n",
       "      <td>Healthy</td>\n",
       "      <td>BA</td>\n",
       "      <td>No</td>\n",
       "      <td>9.0</td>\n",
       "      <td>1.0</td>\n",
       "      <td>Yes</td>\n",
       "      <td>0</td>\n",
       "    </tr>\n",
       "    <tr>\n",
       "      <th>3</th>\n",
       "      <td>Female</td>\n",
       "      <td>28.0</td>\n",
       "      <td>Varanasi</td>\n",
       "      <td>3.0</td>\n",
       "      <td>5.59</td>\n",
       "      <td>2.0</td>\n",
       "      <td>'7-8 hours'</td>\n",
       "      <td>Moderate</td>\n",
       "      <td>BCA</td>\n",
       "      <td>Yes</td>\n",
       "      <td>4.0</td>\n",
       "      <td>5.0</td>\n",
       "      <td>Yes</td>\n",
       "      <td>1</td>\n",
       "    </tr>\n",
       "    <tr>\n",
       "      <th>4</th>\n",
       "      <td>Female</td>\n",
       "      <td>25.0</td>\n",
       "      <td>Jaipur</td>\n",
       "      <td>4.0</td>\n",
       "      <td>8.13</td>\n",
       "      <td>3.0</td>\n",
       "      <td>'5-6 hours'</td>\n",
       "      <td>Moderate</td>\n",
       "      <td>M.Tech</td>\n",
       "      <td>Yes</td>\n",
       "      <td>1.0</td>\n",
       "      <td>1.0</td>\n",
       "      <td>No</td>\n",
       "      <td>0</td>\n",
       "    </tr>\n",
       "  </tbody>\n",
       "</table>\n",
       "</div>"
      ],
      "text/plain": [
       "   Gender   Age           City  Academic Pressure  CGPA  Study Satisfaction  \\\n",
       "0    Male  33.0  Visakhapatnam                5.0  8.97                 2.0   \n",
       "1  Female  24.0      Bangalore                2.0  5.90                 5.0   \n",
       "2    Male  31.0       Srinagar                3.0  7.03                 5.0   \n",
       "3  Female  28.0       Varanasi                3.0  5.59                 2.0   \n",
       "4  Female  25.0         Jaipur                4.0  8.13                 3.0   \n",
       "\n",
       "        Sleep Duration Dietary Habits   Degree  \\\n",
       "0          '5-6 hours'        Healthy  B.Pharm   \n",
       "1          '5-6 hours'       Moderate      BSc   \n",
       "2  'Less than 5 hours'        Healthy       BA   \n",
       "3          '7-8 hours'       Moderate      BCA   \n",
       "4          '5-6 hours'       Moderate   M.Tech   \n",
       "\n",
       "  Have you ever had suicidal thoughts ?  Work/Study Hours Financial Stress  \\\n",
       "0                                   Yes               3.0              1.0   \n",
       "1                                    No               3.0              2.0   \n",
       "2                                    No               9.0              1.0   \n",
       "3                                   Yes               4.0              5.0   \n",
       "4                                   Yes               1.0              1.0   \n",
       "\n",
       "  Family History of Mental Illness  Depression  \n",
       "0                               No           1  \n",
       "1                              Yes           0  \n",
       "2                              Yes           0  \n",
       "3                              Yes           1  \n",
       "4                               No           0  "
      ]
     },
     "execution_count": 36,
     "metadata": {},
     "output_type": "execute_result"
    }
   ],
   "source": [
    "df_train = df_new.drop(['id', 'Profession', 'Work Pressure', 'Job Satisfaction'], axis=1)\n",
    "df_train.head()"
   ]
  },
  {
   "cell_type": "markdown",
   "metadata": {},
   "source": [
    "## visualization"
   ]
  },
  {
   "cell_type": "code",
   "execution_count": null,
   "metadata": {},
   "outputs": [],
   "source": []
  }
 ],
 "metadata": {
  "kernelspec": {
   "display_name": "Python 3",
   "language": "python",
   "name": "python3"
  },
  "language_info": {
   "codemirror_mode": {
    "name": "ipython",
    "version": 3
   },
   "file_extension": ".py",
   "mimetype": "text/x-python",
   "name": "python",
   "nbconvert_exporter": "python",
   "pygments_lexer": "ipython3",
   "version": "3.12.0"
  }
 },
 "nbformat": 4,
 "nbformat_minor": 2
}
